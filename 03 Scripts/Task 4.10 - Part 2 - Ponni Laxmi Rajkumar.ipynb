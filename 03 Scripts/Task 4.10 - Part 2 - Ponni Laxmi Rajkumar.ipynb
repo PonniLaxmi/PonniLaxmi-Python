{
 "cells": [
  {
   "cell_type": "markdown",
   "id": "136b916c",
   "metadata": {},
   "source": [
    "# 1. Import Libraries"
   ]
  },
  {
   "cell_type": "code",
   "execution_count": 1,
   "id": "3f5f28ea",
   "metadata": {},
   "outputs": [],
   "source": [
    "import pandas as pd\n",
    "import numpy as np\n",
    "import os\n",
    "import seaborn as sns\n",
    "import matplotlib.pyplot as plt\n",
    "import scipy"
   ]
  },
  {
   "cell_type": "markdown",
   "id": "ef0160b7",
   "metadata": {},
   "source": [
    "# 2 Import data"
   ]
  },
  {
   "cell_type": "code",
   "execution_count": 2,
   "id": "48174d07",
   "metadata": {},
   "outputs": [],
   "source": [
    "# Defining path\n",
    "path=r'C:\\Users\\ponni\\Achievement 4'"
   ]
  },
  {
   "cell_type": "code",
   "execution_count": 3,
   "id": "bd0dd994",
   "metadata": {},
   "outputs": [],
   "source": [
    "# Import merged data\n",
    "df_merged = pd.read_pickle(os.path.join(path, '02 Data', 'Prepared Data', 'df_merged_5.pkl'))"
   ]
  },
  {
   "cell_type": "code",
   "execution_count": 7,
   "id": "c19ef713",
   "metadata": {},
   "outputs": [],
   "source": [
    "# creating normal purchase customers\n",
    "df_merged.loc[df_merged['max_order']>=5,'activity']='normal'"
   ]
  },
  {
   "cell_type": "code",
   "execution_count": 8,
   "id": "88e83d96",
   "metadata": {},
   "outputs": [],
   "source": [
    "df_merged2=df_merged[df_merged['activity']=='normal']"
   ]
  },
  {
   "cell_type": "code",
   "execution_count": 9,
   "id": "cb295566",
   "metadata": {},
   "outputs": [
    {
     "data": {
      "text/html": [
       "<div>\n",
       "<style scoped>\n",
       "    .dataframe tbody tr th:only-of-type {\n",
       "        vertical-align: middle;\n",
       "    }\n",
       "\n",
       "    .dataframe tbody tr th {\n",
       "        vertical-align: top;\n",
       "    }\n",
       "\n",
       "    .dataframe thead th {\n",
       "        text-align: right;\n",
       "    }\n",
       "</style>\n",
       "<table border=\"1\" class=\"dataframe\">\n",
       "  <thead>\n",
       "    <tr style=\"text-align: right;\">\n",
       "      <th></th>\n",
       "      <th>order_id</th>\n",
       "      <th>user_id</th>\n",
       "      <th>order_number</th>\n",
       "      <th>order_dow</th>\n",
       "      <th>order_hour_of_day</th>\n",
       "      <th>days_since_prior_order</th>\n",
       "      <th>product_id</th>\n",
       "      <th>product_name</th>\n",
       "      <th>department_id</th>\n",
       "      <th>prices</th>\n",
       "      <th>...</th>\n",
       "      <th>last_name</th>\n",
       "      <th>gender</th>\n",
       "      <th>state</th>\n",
       "      <th>age</th>\n",
       "      <th>date_joined</th>\n",
       "      <th>no_of_dependants</th>\n",
       "      <th>marital_status</th>\n",
       "      <th>income($)</th>\n",
       "      <th>regions</th>\n",
       "      <th>activity</th>\n",
       "    </tr>\n",
       "  </thead>\n",
       "  <tbody>\n",
       "    <tr>\n",
       "      <th>0</th>\n",
       "      <td>65</td>\n",
       "      <td>1</td>\n",
       "      <td>1</td>\n",
       "      <td>2</td>\n",
       "      <td>8</td>\n",
       "      <td>999.0</td>\n",
       "      <td>-60</td>\n",
       "      <td>Soda</td>\n",
       "      <td>7</td>\n",
       "      <td>9.0</td>\n",
       "      <td>...</td>\n",
       "      <td>Nguyen</td>\n",
       "      <td>Female</td>\n",
       "      <td>Alabama</td>\n",
       "      <td>31</td>\n",
       "      <td>2/17/2019</td>\n",
       "      <td>3</td>\n",
       "      <td>married</td>\n",
       "      <td>40423</td>\n",
       "      <td>South</td>\n",
       "      <td>normal</td>\n",
       "    </tr>\n",
       "    <tr>\n",
       "      <th>1</th>\n",
       "      <td>75</td>\n",
       "      <td>1</td>\n",
       "      <td>2</td>\n",
       "      <td>3</td>\n",
       "      <td>7</td>\n",
       "      <td>15.0</td>\n",
       "      <td>-60</td>\n",
       "      <td>Soda</td>\n",
       "      <td>7</td>\n",
       "      <td>9.0</td>\n",
       "      <td>...</td>\n",
       "      <td>Nguyen</td>\n",
       "      <td>Female</td>\n",
       "      <td>Alabama</td>\n",
       "      <td>31</td>\n",
       "      <td>2/17/2019</td>\n",
       "      <td>3</td>\n",
       "      <td>married</td>\n",
       "      <td>40423</td>\n",
       "      <td>South</td>\n",
       "      <td>normal</td>\n",
       "    </tr>\n",
       "    <tr>\n",
       "      <th>2</th>\n",
       "      <td>-109</td>\n",
       "      <td>1</td>\n",
       "      <td>3</td>\n",
       "      <td>3</td>\n",
       "      <td>12</td>\n",
       "      <td>21.0</td>\n",
       "      <td>-60</td>\n",
       "      <td>Soda</td>\n",
       "      <td>7</td>\n",
       "      <td>9.0</td>\n",
       "      <td>...</td>\n",
       "      <td>Nguyen</td>\n",
       "      <td>Female</td>\n",
       "      <td>Alabama</td>\n",
       "      <td>31</td>\n",
       "      <td>2/17/2019</td>\n",
       "      <td>3</td>\n",
       "      <td>married</td>\n",
       "      <td>40423</td>\n",
       "      <td>South</td>\n",
       "      <td>normal</td>\n",
       "    </tr>\n",
       "    <tr>\n",
       "      <th>3</th>\n",
       "      <td>-112</td>\n",
       "      <td>1</td>\n",
       "      <td>4</td>\n",
       "      <td>4</td>\n",
       "      <td>7</td>\n",
       "      <td>29.0</td>\n",
       "      <td>-60</td>\n",
       "      <td>Soda</td>\n",
       "      <td>7</td>\n",
       "      <td>9.0</td>\n",
       "      <td>...</td>\n",
       "      <td>Nguyen</td>\n",
       "      <td>Female</td>\n",
       "      <td>Alabama</td>\n",
       "      <td>31</td>\n",
       "      <td>2/17/2019</td>\n",
       "      <td>3</td>\n",
       "      <td>married</td>\n",
       "      <td>40423</td>\n",
       "      <td>South</td>\n",
       "      <td>normal</td>\n",
       "    </tr>\n",
       "    <tr>\n",
       "      <th>4</th>\n",
       "      <td>-82</td>\n",
       "      <td>1</td>\n",
       "      <td>5</td>\n",
       "      <td>4</td>\n",
       "      <td>15</td>\n",
       "      <td>28.0</td>\n",
       "      <td>-60</td>\n",
       "      <td>Soda</td>\n",
       "      <td>7</td>\n",
       "      <td>9.0</td>\n",
       "      <td>...</td>\n",
       "      <td>Nguyen</td>\n",
       "      <td>Female</td>\n",
       "      <td>Alabama</td>\n",
       "      <td>31</td>\n",
       "      <td>2/17/2019</td>\n",
       "      <td>3</td>\n",
       "      <td>married</td>\n",
       "      <td>40423</td>\n",
       "      <td>South</td>\n",
       "      <td>normal</td>\n",
       "    </tr>\n",
       "  </tbody>\n",
       "</table>\n",
       "<p>5 rows × 29 columns</p>\n",
       "</div>"
      ],
      "text/plain": [
       "   order_id  user_id  order_number  order_dow  order_hour_of_day  \\\n",
       "0        65        1             1          2                  8   \n",
       "1        75        1             2          3                  7   \n",
       "2      -109        1             3          3                 12   \n",
       "3      -112        1             4          4                  7   \n",
       "4       -82        1             5          4                 15   \n",
       "\n",
       "   days_since_prior_order  product_id product_name  department_id  prices  \\\n",
       "0                   999.0         -60         Soda              7     9.0   \n",
       "1                    15.0         -60         Soda              7     9.0   \n",
       "2                    21.0         -60         Soda              7     9.0   \n",
       "3                    29.0         -60         Soda              7     9.0   \n",
       "4                    28.0         -60         Soda              7     9.0   \n",
       "\n",
       "   ... last_name  gender    state age  date_joined no_of_dependants  \\\n",
       "0  ...    Nguyen  Female  Alabama  31    2/17/2019                3   \n",
       "1  ...    Nguyen  Female  Alabama  31    2/17/2019                3   \n",
       "2  ...    Nguyen  Female  Alabama  31    2/17/2019                3   \n",
       "3  ...    Nguyen  Female  Alabama  31    2/17/2019                3   \n",
       "4  ...    Nguyen  Female  Alabama  31    2/17/2019                3   \n",
       "\n",
       "   marital_status income($) regions activity  \n",
       "0         married     40423   South   normal  \n",
       "1         married     40423   South   normal  \n",
       "2         married     40423   South   normal  \n",
       "3         married     40423   South   normal  \n",
       "4         married     40423   South   normal  \n",
       "\n",
       "[5 rows x 29 columns]"
      ]
     },
     "execution_count": 9,
     "metadata": {},
     "output_type": "execute_result"
    }
   ],
   "source": [
    "df_merged2.head(5)"
   ]
  },
  {
   "cell_type": "code",
   "execution_count": 21,
   "id": "847c5e7a",
   "metadata": {},
   "outputs": [],
   "source": [
    "# Q5) Creating pet owners\n",
    "# Department numbers 8 is pet related items\n",
    "df_merged2.loc[(df_merged2['department_id']==8), 'pet owners']= 'having pets'"
   ]
  },
  {
   "cell_type": "code",
   "execution_count": 22,
   "id": "7c36aa7e",
   "metadata": {},
   "outputs": [],
   "source": [
    "df_merged2.loc[(df_merged2['department_id']!=8), 'pet owners']= 'no pets'"
   ]
  },
  {
   "cell_type": "code",
   "execution_count": 23,
   "id": "b4d191d7",
   "metadata": {},
   "outputs": [
    {
     "data": {
      "text/plain": [
       "no pets        30871504\n",
       "having pets       93060\n",
       "Name: pet owners, dtype: int64"
      ]
     },
     "execution_count": 23,
     "metadata": {},
     "output_type": "execute_result"
    }
   ],
   "source": [
    "df_merged2['pet owners'].value_counts()"
   ]
  },
  {
   "cell_type": "code",
   "execution_count": 41,
   "id": "ec0f87e4",
   "metadata": {},
   "outputs": [],
   "source": [
    "# Creating age categories\n",
    "df_merged2.loc[(df_merged2['age']>=17)&(df_merged2['age']<=30),'age_category']='young adults'\n",
    "df_merged2.loc[(df_merged2['age']>=31)&(df_merged2['age']<=45),'age_category']='middle aged adults'\n",
    "df_merged2.loc[df_merged2['age']>46,'age_category']='old adults'"
   ]
  },
  {
   "cell_type": "code",
   "execution_count": 42,
   "id": "54d34d58",
   "metadata": {},
   "outputs": [
    {
     "data": {
      "text/plain": [
       "old adults            17397507\n",
       "middle aged adults     7262817\n",
       "young adults           6304240\n",
       "Name: age_category, dtype: int64"
      ]
     },
     "execution_count": 42,
     "metadata": {},
     "output_type": "execute_result"
    }
   ],
   "source": [
    "df_merged2['age_category'].value_counts()"
   ]
  },
  {
   "cell_type": "code",
   "execution_count": 46,
   "id": "27e57cb8",
   "metadata": {},
   "outputs": [
    {
     "data": {
      "text/html": [
       "<div>\n",
       "<style scoped>\n",
       "    .dataframe tbody tr th:only-of-type {\n",
       "        vertical-align: middle;\n",
       "    }\n",
       "\n",
       "    .dataframe tbody tr th {\n",
       "        vertical-align: top;\n",
       "    }\n",
       "\n",
       "    .dataframe thead tr th {\n",
       "        text-align: left;\n",
       "    }\n",
       "\n",
       "    .dataframe thead tr:last-of-type th {\n",
       "        text-align: right;\n",
       "    }\n",
       "</style>\n",
       "<table border=\"1\" class=\"dataframe\">\n",
       "  <thead>\n",
       "    <tr>\n",
       "      <th></th>\n",
       "      <th colspan=\"3\" halign=\"left\">prices</th>\n",
       "    </tr>\n",
       "    <tr>\n",
       "      <th></th>\n",
       "      <th>mean</th>\n",
       "      <th>min</th>\n",
       "      <th>max</th>\n",
       "    </tr>\n",
       "    <tr>\n",
       "      <th>age_category</th>\n",
       "      <th></th>\n",
       "      <th></th>\n",
       "      <th></th>\n",
       "    </tr>\n",
       "  </thead>\n",
       "  <tbody>\n",
       "    <tr>\n",
       "      <th>middle aged adults</th>\n",
       "      <td>7.792969</td>\n",
       "      <td>1.0</td>\n",
       "      <td>25.0</td>\n",
       "    </tr>\n",
       "    <tr>\n",
       "      <th>old adults</th>\n",
       "      <td>7.792969</td>\n",
       "      <td>1.0</td>\n",
       "      <td>25.0</td>\n",
       "    </tr>\n",
       "    <tr>\n",
       "      <th>young adults</th>\n",
       "      <td>7.781250</td>\n",
       "      <td>1.0</td>\n",
       "      <td>25.0</td>\n",
       "    </tr>\n",
       "  </tbody>\n",
       "</table>\n",
       "</div>"
      ],
      "text/plain": [
       "                      prices           \n",
       "                        mean  min   max\n",
       "age_category                           \n",
       "middle aged adults  7.792969  1.0  25.0\n",
       "old adults          7.792969  1.0  25.0\n",
       "young adults        7.781250  1.0  25.0"
      ]
     },
     "execution_count": 46,
     "metadata": {},
     "output_type": "execute_result"
    }
   ],
   "source": [
    "# Q7) Aggregating\n",
    "# a) age category expenditures\n",
    "df_merged2.groupby('age_category').agg({'prices':['mean', 'min','max']})"
   ]
  },
  {
   "cell_type": "code",
   "execution_count": 48,
   "id": "99a4d372",
   "metadata": {},
   "outputs": [
    {
     "data": {
      "text/html": [
       "<div>\n",
       "<style scoped>\n",
       "    .dataframe tbody tr th:only-of-type {\n",
       "        vertical-align: middle;\n",
       "    }\n",
       "\n",
       "    .dataframe tbody tr th {\n",
       "        vertical-align: top;\n",
       "    }\n",
       "\n",
       "    .dataframe thead tr th {\n",
       "        text-align: left;\n",
       "    }\n",
       "\n",
       "    .dataframe thead tr:last-of-type th {\n",
       "        text-align: right;\n",
       "    }\n",
       "</style>\n",
       "<table border=\"1\" class=\"dataframe\">\n",
       "  <thead>\n",
       "    <tr>\n",
       "      <th></th>\n",
       "      <th colspan=\"3\" halign=\"left\">days_since_prior_order</th>\n",
       "    </tr>\n",
       "    <tr>\n",
       "      <th></th>\n",
       "      <th>mean</th>\n",
       "      <th>min</th>\n",
       "      <th>max</th>\n",
       "    </tr>\n",
       "    <tr>\n",
       "      <th>age_category</th>\n",
       "      <th></th>\n",
       "      <th></th>\n",
       "      <th></th>\n",
       "    </tr>\n",
       "  </thead>\n",
       "  <tbody>\n",
       "    <tr>\n",
       "      <th>middle aged adults</th>\n",
       "      <td>63.50000</td>\n",
       "      <td>0.0</td>\n",
       "      <td>999.0</td>\n",
       "    </tr>\n",
       "    <tr>\n",
       "      <th>old adults</th>\n",
       "      <td>63.93750</td>\n",
       "      <td>0.0</td>\n",
       "      <td>999.0</td>\n",
       "    </tr>\n",
       "    <tr>\n",
       "      <th>young adults</th>\n",
       "      <td>63.90625</td>\n",
       "      <td>0.0</td>\n",
       "      <td>999.0</td>\n",
       "    </tr>\n",
       "  </tbody>\n",
       "</table>\n",
       "</div>"
      ],
      "text/plain": [
       "                   days_since_prior_order            \n",
       "                                     mean  min    max\n",
       "age_category                                         \n",
       "middle aged adults               63.50000  0.0  999.0\n",
       "old adults                       63.93750  0.0  999.0\n",
       "young adults                     63.90625  0.0  999.0"
      ]
     },
     "execution_count": 48,
     "metadata": {},
     "output_type": "execute_result"
    }
   ],
   "source": [
    "# a) age category usage frequency\n",
    "df_merged2.groupby('age_category').agg({'days_since_prior_order':['mean', 'min','max']})"
   ]
  },
  {
   "cell_type": "code",
   "execution_count": 47,
   "id": "736d5401",
   "metadata": {},
   "outputs": [
    {
     "data": {
      "text/html": [
       "<div>\n",
       "<style scoped>\n",
       "    .dataframe tbody tr th:only-of-type {\n",
       "        vertical-align: middle;\n",
       "    }\n",
       "\n",
       "    .dataframe tbody tr th {\n",
       "        vertical-align: top;\n",
       "    }\n",
       "\n",
       "    .dataframe thead tr th {\n",
       "        text-align: left;\n",
       "    }\n",
       "\n",
       "    .dataframe thead tr:last-of-type th {\n",
       "        text-align: right;\n",
       "    }\n",
       "</style>\n",
       "<table border=\"1\" class=\"dataframe\">\n",
       "  <thead>\n",
       "    <tr>\n",
       "      <th></th>\n",
       "      <th colspan=\"3\" halign=\"left\">prices</th>\n",
       "    </tr>\n",
       "    <tr>\n",
       "      <th></th>\n",
       "      <th>mean</th>\n",
       "      <th>min</th>\n",
       "      <th>max</th>\n",
       "    </tr>\n",
       "    <tr>\n",
       "      <th>pet owners</th>\n",
       "      <th></th>\n",
       "      <th></th>\n",
       "      <th></th>\n",
       "    </tr>\n",
       "  </thead>\n",
       "  <tbody>\n",
       "    <tr>\n",
       "      <th>having pets</th>\n",
       "      <td>7.886719</td>\n",
       "      <td>1.0</td>\n",
       "      <td>15.0</td>\n",
       "    </tr>\n",
       "    <tr>\n",
       "      <th>no pets</th>\n",
       "      <td>7.789062</td>\n",
       "      <td>1.0</td>\n",
       "      <td>25.0</td>\n",
       "    </tr>\n",
       "  </tbody>\n",
       "</table>\n",
       "</div>"
      ],
      "text/plain": [
       "               prices           \n",
       "                 mean  min   max\n",
       "pet owners                      \n",
       "having pets  7.886719  1.0  15.0\n",
       "no pets      7.789062  1.0  25.0"
      ]
     },
     "execution_count": 47,
     "metadata": {},
     "output_type": "execute_result"
    }
   ],
   "source": [
    "# b) pet owners expenditures\n",
    "df_merged2.groupby('pet owners').agg({'prices':['mean', 'min','max']})"
   ]
  },
  {
   "cell_type": "code",
   "execution_count": 49,
   "id": "5a537b7d",
   "metadata": {},
   "outputs": [
    {
     "data": {
      "text/html": [
       "<div>\n",
       "<style scoped>\n",
       "    .dataframe tbody tr th:only-of-type {\n",
       "        vertical-align: middle;\n",
       "    }\n",
       "\n",
       "    .dataframe tbody tr th {\n",
       "        vertical-align: top;\n",
       "    }\n",
       "\n",
       "    .dataframe thead tr th {\n",
       "        text-align: left;\n",
       "    }\n",
       "\n",
       "    .dataframe thead tr:last-of-type th {\n",
       "        text-align: right;\n",
       "    }\n",
       "</style>\n",
       "<table border=\"1\" class=\"dataframe\">\n",
       "  <thead>\n",
       "    <tr>\n",
       "      <th></th>\n",
       "      <th colspan=\"3\" halign=\"left\">days_since_prior_order</th>\n",
       "    </tr>\n",
       "    <tr>\n",
       "      <th></th>\n",
       "      <th>mean</th>\n",
       "      <th>min</th>\n",
       "      <th>max</th>\n",
       "    </tr>\n",
       "    <tr>\n",
       "      <th>pet owners</th>\n",
       "      <th></th>\n",
       "      <th></th>\n",
       "      <th></th>\n",
       "    </tr>\n",
       "  </thead>\n",
       "  <tbody>\n",
       "    <tr>\n",
       "      <th>having pets</th>\n",
       "      <td>67.3750</td>\n",
       "      <td>0.0</td>\n",
       "      <td>999.0</td>\n",
       "    </tr>\n",
       "    <tr>\n",
       "      <th>no pets</th>\n",
       "      <td>63.8125</td>\n",
       "      <td>0.0</td>\n",
       "      <td>999.0</td>\n",
       "    </tr>\n",
       "  </tbody>\n",
       "</table>\n",
       "</div>"
      ],
      "text/plain": [
       "            days_since_prior_order            \n",
       "                              mean  min    max\n",
       "pet owners                                    \n",
       "having pets                67.3750  0.0  999.0\n",
       "no pets                    63.8125  0.0  999.0"
      ]
     },
     "execution_count": 49,
     "metadata": {},
     "output_type": "execute_result"
    }
   ],
   "source": [
    "# b) pet owners usage frequency\n",
    "df_merged2.groupby('pet owners').agg({'days_since_prior_order':['mean', 'min','max']})"
   ]
  },
  {
   "cell_type": "markdown",
   "id": "a11feb3b",
   "metadata": {},
   "source": [
    "# Visualisations"
   ]
  },
  {
   "cell_type": "code",
   "execution_count": 57,
   "id": "ee2efaef",
   "metadata": {},
   "outputs": [
    {
     "data": {
      "image/png": "[encoded data removed]",
      "text/plain": [
       "<Figure size 640x480 with 1 Axes>"
      ]
     },
     "metadata": {},
     "output_type": "display_data"
    }
   ],
   "source": [
    "# Bar graph for pet owners\n",
    "pets_barchart=df_merged2['pet owners'].value_counts().plot.bar(color=['green','blue'])"
   ]
  },
  {
   "cell_type": "markdown",
   "id": "6d08fe02",
   "metadata": {},
   "source": [
    "#### The purchase of pet related items are very less. It should be investigated further. It maybe because the products available are less or the brands of the pet foods or collection of pet things. Increase in pet related items can be considered."
   ]
  },
  {
   "cell_type": "code",
   "execution_count": 60,
   "id": "88e08373",
   "metadata": {},
   "outputs": [
    {
     "data": {
      "image/png": "[encoded data removed]",
      "text/plain": [
       "<Figure size 640x480 with 1 Axes>"
      ]
     },
     "metadata": {},
     "output_type": "display_data"
    }
   ],
   "source": [
    "# Bar graph for age category\n",
    "age_cat_bar=df_merged2['age_category'].value_counts().plot.bar(color=['orangered','darkorange','orange'])"
   ]
  },
  {
   "cell_type": "markdown",
   "id": "01adb99d",
   "metadata": {},
   "source": [
    "#### Most of the instacart orders are from old adults (age > 46) category. "
   ]
  },
  {
   "cell_type": "markdown",
   "id": "72b583ca",
   "metadata": {},
   "source": [
    "#### a) Family status"
   ]
  },
  {
   "cell_type": "code",
   "execution_count": 62,
   "id": "9a6f1bf8",
   "metadata": {},
   "outputs": [
    {
     "name": "stderr",
     "output_type": "stream",
     "text": [
      "C:\\Users\\ponni\\AppData\\Local\\Temp\\ipykernel_13808\\1089156280.py:3: SettingWithCopyWarning: \n",
      "A value is trying to be set on a copy of a slice from a DataFrame.\n",
      "Try using .loc[row_indexer,col_indexer] = value instead\n",
      "\n",
      "See the caveats in the documentation: https://pandas.pydata.org/pandas-docs/stable/user_guide/indexing.html#returning-a-view-versus-a-copy\n",
      "  df_merged2.loc[(df_merged2['department_id']==18)&(df_merged2['no_of_dependants']>0),'family_status']='family with young children'\n"
     ]
    }
   ],
   "source": [
    "# To create a family status flag to find parents of young children, parents of older children, and people with no children\n",
    "# Department id # 18 is designated 'babies' and will be used here to identify families with young children\n",
    "df_merged2.loc[(df_merged2['department_id']==18)&(df_merged2['no_of_dependants']>0),'family_status']='family with young children'"
   ]
  },
  {
   "cell_type": "code",
   "execution_count": 63,
   "id": "50d0383c",
   "metadata": {},
   "outputs": [],
   "source": [
    "df_merged2.loc[(df_merged2['department_id']!=18)&(df_merged2['no_of_dependants']>0),'family_status']='family with older children'"
   ]
  },
  {
   "cell_type": "code",
   "execution_count": 65,
   "id": "4629c825",
   "metadata": {},
   "outputs": [],
   "source": [
    "df_merged2.loc[df_merged2['no_of_dependants']==0,'family_status']='no children' "
   ]
  },
  {
   "cell_type": "code",
   "execution_count": 68,
   "id": "bf3c704d",
   "metadata": {},
   "outputs": [
    {
     "data": {
      "image/png": "[encoded data removed]",
      "text/plain": [
       "<Figure size 640x480 with 1 Axes>"
      ]
     },
     "metadata": {},
     "output_type": "display_data"
    }
   ],
   "source": [
    "# Bar graph for family status\n",
    "baby=familystatus_bar=df_merged2['family_status'].value_counts().plot.bar(color=['pink','skyblue','black'])"
   ]
  },
  {
   "cell_type": "markdown",
   "id": "f5ee5870",
   "metadata": {},
   "source": [
    "#### From this graph it is visible that most of the orders from family with older children"
   ]
  },
  {
   "cell_type": "code",
   "execution_count": 69,
   "id": "f26f88ec",
   "metadata": {},
   "outputs": [],
   "source": [
    "# exporting the bar charts\n",
    "baby.figure.savefig(os.path.join(path, '04 Analysis','Visualisations', 'family_status.png'))"
   ]
  },
  {
   "cell_type": "code",
   "execution_count": 70,
   "id": "c71407ae",
   "metadata": {},
   "outputs": [],
   "source": [
    "age_cat_bar.figure.savefig(os.path.join(path, '04 Analysis','Visualisations', 'age_category.png'))"
   ]
  },
  {
   "cell_type": "code",
   "execution_count": 71,
   "id": "fdf4347f",
   "metadata": {},
   "outputs": [],
   "source": [
    "pets_barchart.figure.savefig(os.path.join(path, '04 Analysis','Visualisations', 'pet owners.png'))"
   ]
  },
  {
   "cell_type": "code",
   "execution_count": 72,
   "id": "787e64f1",
   "metadata": {},
   "outputs": [],
   "source": [
    "# Q8)\n",
    "#crosstabulating family status by region\n",
    "crosstab_fam_status=pd.crosstab(df_merged2['regions'],df_merged2['family_status'],dropna=False)"
   ]
  },
  {
   "cell_type": "code",
   "execution_count": 73,
   "id": "4913f991",
   "metadata": {},
   "outputs": [
    {
     "data": {
      "text/html": [
       "<div>\n",
       "<style scoped>\n",
       "    .dataframe tbody tr th:only-of-type {\n",
       "        vertical-align: middle;\n",
       "    }\n",
       "\n",
       "    .dataframe tbody tr th {\n",
       "        vertical-align: top;\n",
       "    }\n",
       "\n",
       "    .dataframe thead th {\n",
       "        text-align: right;\n",
       "    }\n",
       "</style>\n",
       "<table border=\"1\" class=\"dataframe\">\n",
       "  <thead>\n",
       "    <tr style=\"text-align: right;\">\n",
       "      <th>family_status</th>\n",
       "      <th>family with older children</th>\n",
       "      <th>family with young children</th>\n",
       "      <th>no children</th>\n",
       "    </tr>\n",
       "    <tr>\n",
       "      <th>regions</th>\n",
       "      <th></th>\n",
       "      <th></th>\n",
       "      <th></th>\n",
       "    </tr>\n",
       "  </thead>\n",
       "  <tbody>\n",
       "    <tr>\n",
       "      <th>Midwest</th>\n",
       "      <td>5367664</td>\n",
       "      <td>71033</td>\n",
       "      <td>1822816</td>\n",
       "    </tr>\n",
       "    <tr>\n",
       "      <th>Northeast</th>\n",
       "      <td>4055516</td>\n",
       "      <td>54687</td>\n",
       "      <td>1354482</td>\n",
       "    </tr>\n",
       "    <tr>\n",
       "      <th>South</th>\n",
       "      <td>7624975</td>\n",
       "      <td>104231</td>\n",
       "      <td>2581933</td>\n",
       "    </tr>\n",
       "    <tr>\n",
       "      <th>West</th>\n",
       "      <td>5869664</td>\n",
       "      <td>77113</td>\n",
       "      <td>1980450</td>\n",
       "    </tr>\n",
       "  </tbody>\n",
       "</table>\n",
       "</div>"
      ],
      "text/plain": [
       "family_status  family with older children  family with young children  \\\n",
       "regions                                                                 \n",
       "Midwest                           5367664                       71033   \n",
       "Northeast                         4055516                       54687   \n",
       "South                             7624975                      104231   \n",
       "West                              5869664                       77113   \n",
       "\n",
       "family_status  no children  \n",
       "regions                     \n",
       "Midwest            1822816  \n",
       "Northeast          1354482  \n",
       "South              2581933  \n",
       "West               1980450  "
      ]
     },
     "execution_count": 73,
     "metadata": {},
     "output_type": "execute_result"
    }
   ],
   "source": [
    "crosstab_fam_status"
   ]
  },
  {
   "cell_type": "code",
   "execution_count": 74,
   "id": "5fc0c6c0",
   "metadata": {},
   "outputs": [],
   "source": [
    "# To crosstabulate pet owners by region\n",
    "crosstab_petowners=pd.crosstab(df_merged2['regions'],df_merged2['pet owners'],dropna=False)"
   ]
  },
  {
   "cell_type": "code",
   "execution_count": 75,
   "id": "fe993959",
   "metadata": {},
   "outputs": [
    {
     "data": {
      "text/html": [
       "<div>\n",
       "<style scoped>\n",
       "    .dataframe tbody tr th:only-of-type {\n",
       "        vertical-align: middle;\n",
       "    }\n",
       "\n",
       "    .dataframe tbody tr th {\n",
       "        vertical-align: top;\n",
       "    }\n",
       "\n",
       "    .dataframe thead th {\n",
       "        text-align: right;\n",
       "    }\n",
       "</style>\n",
       "<table border=\"1\" class=\"dataframe\">\n",
       "  <thead>\n",
       "    <tr style=\"text-align: right;\">\n",
       "      <th>pet owners</th>\n",
       "      <th>having pets</th>\n",
       "      <th>no pets</th>\n",
       "    </tr>\n",
       "    <tr>\n",
       "      <th>regions</th>\n",
       "      <th></th>\n",
       "      <th></th>\n",
       "    </tr>\n",
       "  </thead>\n",
       "  <tbody>\n",
       "    <tr>\n",
       "      <th>Midwest</th>\n",
       "      <td>21358</td>\n",
       "      <td>7240155</td>\n",
       "    </tr>\n",
       "    <tr>\n",
       "      <th>Northeast</th>\n",
       "      <td>17734</td>\n",
       "      <td>5446951</td>\n",
       "    </tr>\n",
       "    <tr>\n",
       "      <th>South</th>\n",
       "      <td>29909</td>\n",
       "      <td>10281230</td>\n",
       "    </tr>\n",
       "    <tr>\n",
       "      <th>West</th>\n",
       "      <td>24059</td>\n",
       "      <td>7903168</td>\n",
       "    </tr>\n",
       "  </tbody>\n",
       "</table>\n",
       "</div>"
      ],
      "text/plain": [
       "pet owners  having pets   no pets\n",
       "regions                          \n",
       "Midwest           21358   7240155\n",
       "Northeast         17734   5446951\n",
       "South             29909  10281230\n",
       "West              24059   7903168"
      ]
     },
     "execution_count": 75,
     "metadata": {},
     "output_type": "execute_result"
    }
   ],
   "source": [
    "crosstab_petowners"
   ]
  },
  {
   "cell_type": "code",
   "execution_count": 76,
   "id": "08c45702",
   "metadata": {},
   "outputs": [],
   "source": [
    "# To crosstabulate age category by region\n",
    "crosstab_agecategory=pd.crosstab(df_merged2['regions'],df_merged2['age_category'],dropna=False)"
   ]
  },
  {
   "cell_type": "code",
   "execution_count": 77,
   "id": "93bf471a",
   "metadata": {},
   "outputs": [
    {
     "data": {
      "text/html": [
       "<div>\n",
       "<style scoped>\n",
       "    .dataframe tbody tr th:only-of-type {\n",
       "        vertical-align: middle;\n",
       "    }\n",
       "\n",
       "    .dataframe tbody tr th {\n",
       "        vertical-align: top;\n",
       "    }\n",
       "\n",
       "    .dataframe thead th {\n",
       "        text-align: right;\n",
       "    }\n",
       "</style>\n",
       "<table border=\"1\" class=\"dataframe\">\n",
       "  <thead>\n",
       "    <tr style=\"text-align: right;\">\n",
       "      <th>age_category</th>\n",
       "      <th>middle aged adults</th>\n",
       "      <th>old adults</th>\n",
       "      <th>young adults</th>\n",
       "    </tr>\n",
       "    <tr>\n",
       "      <th>regions</th>\n",
       "      <th></th>\n",
       "      <th></th>\n",
       "      <th></th>\n",
       "    </tr>\n",
       "  </thead>\n",
       "  <tbody>\n",
       "    <tr>\n",
       "      <th>Midwest</th>\n",
       "      <td>1723183</td>\n",
       "      <td>4077283</td>\n",
       "      <td>1461047</td>\n",
       "    </tr>\n",
       "    <tr>\n",
       "      <th>Northeast</th>\n",
       "      <td>1261452</td>\n",
       "      <td>3091757</td>\n",
       "      <td>1111476</td>\n",
       "    </tr>\n",
       "    <tr>\n",
       "      <th>South</th>\n",
       "      <td>2449358</td>\n",
       "      <td>5734879</td>\n",
       "      <td>2126902</td>\n",
       "    </tr>\n",
       "    <tr>\n",
       "      <th>West</th>\n",
       "      <td>1828824</td>\n",
       "      <td>4493588</td>\n",
       "      <td>1604815</td>\n",
       "    </tr>\n",
       "  </tbody>\n",
       "</table>\n",
       "</div>"
      ],
      "text/plain": [
       "age_category  middle aged adults  old adults  young adults\n",
       "regions                                                   \n",
       "Midwest                  1723183     4077283       1461047\n",
       "Northeast                1261452     3091757       1111476\n",
       "South                    2449358     5734879       2126902\n",
       "West                     1828824     4493588       1604815"
      ]
     },
     "execution_count": 77,
     "metadata": {},
     "output_type": "execute_result"
    }
   ],
   "source": [
    "crosstab_agecategory"
   ]
  },
  {
   "cell_type": "markdown",
   "id": "0564a385",
   "metadata": {},
   "source": [
    "# Exporting data"
   ]
  },
  {
   "cell_type": "code",
   "execution_count": 78,
   "id": "3a9f29d6",
   "metadata": {},
   "outputs": [],
   "source": [
    "# Exporting the df_merged dataset\n",
    "df_merged2.to_pickle(os.path.join(path, '02 Data', 'Prepared Data', 'df_merged_finaldataset.pkl'))"
   ]
  },
  {
   "cell_type": "code",
   "execution_count": null,
   "id": "863ad03c",
   "metadata": {},
   "outputs": [],
   "source": []
  }
 ],
 "metadata": {
  "kernelspec": {
   "display_name": "Python 3 (ipykernel)",
   "language": "python",
   "name": "python3"
  },
  "language_info": {
   "codemirror_mode": {
    "name": "ipython",
    "version": 3
   },
   "file_extension": ".py",
   "mimetype": "text/x-python",
   "name": "python",
   "nbconvert_exporter": "python",
   "pygments_lexer": "ipython3",
   "version": "3.9.13"
  }
 },
 "nbformat": 4,
 "nbformat_minor": 5
}
