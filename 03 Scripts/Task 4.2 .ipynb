{
 "cells": [
  {
   "cell_type": "markdown",
   "id": "0e1ca25e",
   "metadata": {},
   "source": [
    "# 01. Import Library"
   ]
  },
  {
   "cell_type": "code",
   "execution_count": 1,
   "id": "11650211",
   "metadata": {},
   "outputs": [],
   "source": [
    "# importing libraries\n",
    "import pandas as pd\n",
    "import numpy as np\n",
    "import os"
   ]
  },
  {
   "cell_type": "markdown",
   "id": "3ff1cb22",
   "metadata": {},
   "source": [
    "# 02. Data Types"
   ]
  },
  {
   "cell_type": "code",
   "execution_count": null,
   "id": "e5987682",
   "metadata": {},
   "outputs": [],
   "source": [
    "# question 7"
   ]
  },
  {
   "cell_type": "code",
   "execution_count": 10,
   "id": "dfccc75a",
   "metadata": {},
   "outputs": [],
   "source": [
    "x=50 "
   ]
  },
  {
   "cell_type": "code",
   "execution_count": 11,
   "id": "980c10c7",
   "metadata": {},
   "outputs": [],
   "source": [
    "y=50"
   ]
  },
  {
   "cell_type": "code",
   "execution_count": 12,
   "id": "5ddd1f01",
   "metadata": {},
   "outputs": [],
   "source": [
    "a=x+y"
   ]
  },
  {
   "cell_type": "code",
   "execution_count": 13,
   "id": "e007aa2e",
   "metadata": {},
   "outputs": [
    {
     "name": "stdout",
     "output_type": "stream",
     "text": [
      "100\n"
     ]
    }
   ],
   "source": [
    "print(a)"
   ]
  },
  {
   "cell_type": "code",
   "execution_count": 15,
   "id": "09cf57a6",
   "metadata": {},
   "outputs": [
    {
     "data": {
      "text/plain": [
       "100"
      ]
     },
     "execution_count": 15,
     "metadata": {},
     "output_type": "execute_result"
    }
   ],
   "source": [
    "x=150\n",
    "y=50\n",
    "b=x-y\n",
    "b"
   ]
  },
  {
   "cell_type": "code",
   "execution_count": 16,
   "id": "135adf6e",
   "metadata": {},
   "outputs": [
    {
     "data": {
      "text/plain": [
       "100"
      ]
     },
     "execution_count": 16,
     "metadata": {},
     "output_type": "execute_result"
    }
   ],
   "source": [
    "x=25\n",
    "y=25\n",
    "z=50\n",
    "c=x+y+z\n",
    "c"
   ]
  },
  {
   "cell_type": "code",
   "execution_count": null,
   "id": "14c8c1bb",
   "metadata": {},
   "outputs": [],
   "source": [
    "# question 8\n"
   ]
  },
  {
   "cell_type": "code",
   "execution_count": 19,
   "id": "2ee54297",
   "metadata": {},
   "outputs": [
    {
     "data": {
      "text/plain": [
       "4.59090909090909"
      ]
     },
     "execution_count": 19,
     "metadata": {},
     "output_type": "execute_result"
    }
   ],
   "source": [
    "x=10.10\n",
    "y=2.2\n",
    "d=x/y\n",
    "d"
   ]
  },
  {
   "cell_type": "code",
   "execution_count": null,
   "id": "c44e8fc6",
   "metadata": {},
   "outputs": [],
   "source": [
    "# question 9"
   ]
  },
  {
   "cell_type": "code",
   "execution_count": 24,
   "id": "dcfbbf32",
   "metadata": {},
   "outputs": [
    {
     "data": {
      "text/plain": [
       "'you are beautiful, just the way you are'"
      ]
     },
     "execution_count": 24,
     "metadata": {},
     "output_type": "execute_result"
    }
   ],
   "source": [
    "x='you are beautiful'\n",
    "y='just the way you are'\n",
    "e=x+', '+y\n",
    "e"
   ]
  },
  {
   "cell_type": "code",
   "execution_count": null,
   "id": "f0e4e3db",
   "metadata": {},
   "outputs": [],
   "source": [
    "# bonus task"
   ]
  },
  {
   "cell_type": "markdown",
   "id": "77b8f7c7",
   "metadata": {},
   "source": [
    "e*100"
   ]
  }
 ],
 "metadata": {
  "kernelspec": {
   "display_name": "Python 3 (ipykernel)",
   "language": "python",
   "name": "python3"
  },
  "language_info": {
   "codemirror_mode": {
    "name": "ipython",
    "version": 3
   },
   "file_extension": ".py",
   "mimetype": "text/x-python",
   "name": "python",
   "nbconvert_exporter": "python",
   "pygments_lexer": "ipython3",
   "version": "3.9.13"
  }
 },
 "nbformat": 4,
 "nbformat_minor": 5
}
