{
 "cells": [
  {
   "cell_type": "markdown",
   "id": "abeea054",
   "metadata": {},
   "source": [
    "# Exercise-Part1-continuation"
   ]
  },
  {
   "cell_type": "markdown",
   "id": "805b6e30",
   "metadata": {},
   "source": [
    "# 1. Import Libraries"
   ]
  },
  {
   "cell_type": "code",
   "execution_count": 1,
   "id": "0c7b3c0c",
   "metadata": {},
   "outputs": [],
   "source": [
    "import pandas as pd\n",
    "import numpy as np\n",
    "import os"
   ]
  },
  {
   "cell_type": "markdown",
   "id": "86ff92c7",
   "metadata": {},
   "source": [
    "# 2. Import data"
   ]
  },
  {
   "cell_type": "code",
   "execution_count": 2,
   "id": "e73f37a9",
   "metadata": {},
   "outputs": [],
   "source": [
    "# Defining path\n",
    "path=r'C:\\Users\\ponni\\Achievement 4'"
   ]
  },
  {
   "cell_type": "code",
   "execution_count": 3,
   "id": "1a7b199a",
   "metadata": {},
   "outputs": [],
   "source": [
    "# Import customer data\n",
    "df_customer = pd.read_pickle(os.path.join(path, '02 Data', 'Prepared Data', 'df_customer_final.pkl'))"
   ]
  },
  {
   "cell_type": "code",
   "execution_count": 4,
   "id": "6c9a538d",
   "metadata": {},
   "outputs": [],
   "source": [
    "# Import ords_prod_data\n",
    "ords_prod_merged=pd.read_pickle(os.path.join(path, '02 Data', 'Prepared Data', 'orders_products_merged_4.pkl'))"
   ]
  },
  {
   "cell_type": "code",
   "execution_count": 5,
   "id": "d68c7814",
   "metadata": {},
   "outputs": [],
   "source": [
    "#Dropping few columns\n",
    "ords_prods_merged_2= ords_prod_merged.drop(['order_frequency_flag','customer_frequency_flag','add_to_cart_order', 'reordered','_merge','aisle_id'], axis=1)"
   ]
  },
  {
   "cell_type": "markdown",
   "id": "525a8bd2",
   "metadata": {},
   "source": [
    "# 3. Merging both data"
   ]
  },
  {
   "cell_type": "code",
   "execution_count": 6,
   "id": "d01f67b1",
   "metadata": {},
   "outputs": [
    {
     "data": {
      "text/plain": [
       "dtype('int64')"
      ]
     },
     "execution_count": 6,
     "metadata": {},
     "output_type": "execute_result"
    }
   ],
   "source": [
    "# For combining the data the common column is user_id\n",
    "# checking for the data type in ords_prods_merged_2\n",
    "ords_prods_merged_2['user_id'].dtype"
   ]
  },
  {
   "cell_type": "code",
   "execution_count": 7,
   "id": "3b9e8dce",
   "metadata": {},
   "outputs": [
    {
     "data": {
      "text/plain": [
       "dtype('O')"
      ]
     },
     "execution_count": 7,
     "metadata": {},
     "output_type": "execute_result"
    }
   ],
   "source": [
    "# changing the user_id to string to not affect the calculation\n",
    "ords_prods_merged_2['user_id'] = ords_prods_merged_2['user_id'].astype('str')\n",
    "ords_prods_merged_2['user_id'].dtype"
   ]
  },
  {
   "cell_type": "code",
   "execution_count": 8,
   "id": "7f7ece8c",
   "metadata": {},
   "outputs": [
    {
     "data": {
      "text/plain": [
       "dtype('O')"
      ]
     },
     "execution_count": 8,
     "metadata": {},
     "output_type": "execute_result"
    }
   ],
   "source": [
    "# datatype\n",
    "df_customer['user_id'].dtype"
   ]
  },
  {
   "cell_type": "code",
   "execution_count": 9,
   "id": "d505f4c3",
   "metadata": {},
   "outputs": [],
   "source": [
    "# merging the two dataframes\n",
    "df_merged = ords_prods_merged_2.merge(df_customer, on = 'user_id')"
   ]
  },
  {
   "cell_type": "code",
   "execution_count": 10,
   "id": "1203d68a",
   "metadata": {},
   "outputs": [
    {
     "data": {
      "text/plain": [
       "(32404859, 27)"
      ]
     },
     "execution_count": 10,
     "metadata": {},
     "output_type": "execute_result"
    }
   ],
   "source": [
    "df_merged.shape"
   ]
  },
  {
   "cell_type": "markdown",
   "id": "5fe26145",
   "metadata": {},
   "source": [
    "# 4. Export data"
   ]
  },
  {
   "cell_type": "code",
   "execution_count": 11,
   "id": "71924bbd",
   "metadata": {},
   "outputs": [],
   "source": [
    "df_merged.to_pickle(os.path.join(path, '02 Data', 'Prepared Data', 'df_merged_1.pkl'))"
   ]
  },
  {
   "cell_type": "code",
   "execution_count": null,
   "id": "25fead55",
   "metadata": {},
   "outputs": [],
   "source": []
  }
 ],
 "metadata": {
  "kernelspec": {
   "display_name": "Python 3 (ipykernel)",
   "language": "python",
   "name": "python3"
  },
  "language_info": {
   "codemirror_mode": {
    "name": "ipython",
    "version": 3
   },
   "file_extension": ".py",
   "mimetype": "text/x-python",
   "name": "python",
   "nbconvert_exporter": "python",
   "pygments_lexer": "ipython3",
   "version": "3.9.13"
  }
 },
 "nbformat": 4,
 "nbformat_minor": 5
}
