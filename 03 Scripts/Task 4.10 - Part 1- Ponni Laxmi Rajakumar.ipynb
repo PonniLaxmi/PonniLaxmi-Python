{
 "cells": [
  {
   "cell_type": "markdown",
   "id": "38660e07",
   "metadata": {},
   "source": [
    "# 1. Import Libraries"
   ]
  },
  {
   "cell_type": "code",
   "execution_count": 2,
   "id": "0d52e0a3",
   "metadata": {},
   "outputs": [],
   "source": [
    "import pandas as pd\n",
    "import numpy as np\n",
    "import os\n",
    "import seaborn as sns\n",
    "import matplotlib.pyplot as plt\n",
    "import scipy"
   ]
  },
  {
   "cell_type": "markdown",
   "id": "acf68848",
   "metadata": {},
   "source": [
    "# 2. Import data"
   ]
  },
  {
   "cell_type": "code",
   "execution_count": 3,
   "id": "78dfa1ec",
   "metadata": {},
   "outputs": [],
   "source": [
    "# Defining path\n",
    "path=r'C:\\Users\\ponni\\Achievement 4'"
   ]
  },
  {
   "cell_type": "code",
   "execution_count": 4,
   "id": "4c00a9e0",
   "metadata": {},
   "outputs": [],
   "source": [
    "# Import merged data\n",
    "df_merged = pd.read_pickle(os.path.join(path, '02 Data', 'Prepared Data', 'df_merged_3.pkl'))"
   ]
  },
  {
   "cell_type": "code",
   "execution_count": 6,
   "id": "6c482a66",
   "metadata": {},
   "outputs": [],
   "source": [
    "# converting datatypes to reduce the size of the data\n",
    "#int64 to int8\n",
    "df_merged[['order_id','user_id','order_number','order_dow','order_hour_of_day','product_id','department_id','max_order','age','no_of_dependants']] = df_merged[['order_id','user_id','order_number','order_dow','order_hour_of_day','product_id','department_id','max_order','age','no_of_dependants']].astype('int8')"
   ]
  },
  {
   "cell_type": "code",
   "execution_count": 8,
   "id": "b5ce31df",
   "metadata": {},
   "outputs": [],
   "source": [
    "#flot 64 to float 16\n",
    "df_merged[['days_since_prior_order','prices','average_price']] = df_merged[['days_since_prior_order','prices','average_price']].astype('float16')"
   ]
  },
  {
   "cell_type": "markdown",
   "id": "4bff3286",
   "metadata": {},
   "source": [
    "# Task 4.10- Answers"
   ]
  },
  {
   "cell_type": "markdown",
   "id": "923392c2",
   "metadata": {},
   "source": [
    "#### Q2) The customer data has a lot of PII data. It will not be removed. However, a note will be made in final report."
   ]
  },
  {
   "cell_type": "code",
   "execution_count": 10,
   "id": "38e2096e",
   "metadata": {},
   "outputs": [
    {
     "data": {
      "text/plain": [
       "Pennsylvania            667082\n",
       "California              659783\n",
       "Rhode Island            656913\n",
       "Georgia                 656389\n",
       "New Mexico              654494\n",
       "Arizona                 653964\n",
       "North Carolina          651900\n",
       "Oklahoma                651739\n",
       "Alaska                  648495\n",
       "Minnesota               647825\n",
       "Massachusetts           646358\n",
       "Wyoming                 644255\n",
       "Virginia                641421\n",
       "Missouri                640732\n",
       "Texas                   640394\n",
       "Colorado                639280\n",
       "Maine                   638583\n",
       "North Dakota            638491\n",
       "Alabama                 638003\n",
       "Kansas                  637538\n",
       "Louisiana               637482\n",
       "Delaware                637024\n",
       "South Carolina          636754\n",
       "Oregon                  636425\n",
       "Arkansas                636144\n",
       "Nevada                  636139\n",
       "New York                635983\n",
       "Montana                 635265\n",
       "South Dakota            633772\n",
       "Illinois                633024\n",
       "Hawaii                  632901\n",
       "Washington              632852\n",
       "Mississippi             632675\n",
       "Kentucky                632490\n",
       "Michigan                630928\n",
       "Florida                 629027\n",
       "Ohio                    628319\n",
       "Wisconsin               628108\n",
       "New Jersey              627692\n",
       "Indiana                 627282\n",
       "Maryland                626579\n",
       "Nebraska                625813\n",
       "Iowa                    625493\n",
       "Connecticut             623022\n",
       "Tennessee               617873\n",
       "New Hampshire           615378\n",
       "District of Columbia    613695\n",
       "West Virginia           612296\n",
       "Utah                    611941\n",
       "Vermont                 611725\n",
       "Idaho                   607119\n",
       "Name: state, dtype: int64"
      ]
     },
     "execution_count": 10,
     "metadata": {},
     "output_type": "execute_result"
    }
   ],
   "source": [
    "# Q3a) Creating a regional segmentation of the data\n",
    "#Checking the state column\n",
    "df_merged['state'].value_counts()"
   ]
  },
  {
   "cell_type": "code",
   "execution_count": 11,
   "id": "00cfe562",
   "metadata": {},
   "outputs": [],
   "source": [
    "# defining regions with the help of wikipedia article provided\n",
    "northeast=['Maine','New Hampshire','Vermont','Massachusetts','Rhode Island','Connecticut','New York','Pennsylvania','New Jersey']\n",
    "midwest=['Wisconsin','Michigan','Illinois','Indiana','Ohio','North Dakota','South Dakota','Nebraska','Kansas','Minnesota','Iowa','Missouri']\n",
    "south=['Delaware','Maryland','District of Columbia','Virginia','West Virginia','North Carolina','South Carolina','Georgia','Florida','Kentucky','Tennessee','Mississippi','Alabama','Oklahoma','Texas','Arkansas','Louisiana']\n",
    "west=['Idaho','Montana','Wyoming','Nevada','Utah','Colorado','Arizona','New Mexico','Alaska','Washington','Oregon','California','Hawaii'] "
   ]
  },
  {
   "cell_type": "code",
   "execution_count": 12,
   "id": "7d2e01a5",
   "metadata": {},
   "outputs": [],
   "source": [
    "# creating an empty list and for loop logic\n",
    "result=[]\n",
    "\n",
    "for value in df_merged['state']:\n",
    "    if value in northeast:\n",
    "        result.append('Northeast')\n",
    "    elif value in midwest:\n",
    "        result.append('Midwest')\n",
    "    elif value in south:\n",
    "        result.append('South')\n",
    "    elif value in west:\n",
    "        result.append('West')"
   ]
  },
  {
   "cell_type": "code",
   "execution_count": 13,
   "id": "bf21d971",
   "metadata": {},
   "outputs": [],
   "source": [
    "# Creating region column and assign the above list value to it\n",
    "df_merged['regions']=result"
   ]
  },
  {
   "cell_type": "code",
   "execution_count": 14,
   "id": "e4d4aaec",
   "metadata": {},
   "outputs": [
    {
     "data": {
      "text/plain": [
       "South        10791885\n",
       "West          8292913\n",
       "Midwest       7597325\n",
       "Northeast     5722736\n",
       "Name: regions, dtype: int64"
      ]
     },
     "execution_count": 14,
     "metadata": {},
     "output_type": "execute_result"
    }
   ],
   "source": [
    "# check the region column\n",
    "df_merged['regions'].value_counts()"
   ]
  },
  {
   "cell_type": "code",
   "execution_count": 15,
   "id": "57c8130e",
   "metadata": {},
   "outputs": [
    {
     "data": {
      "text/plain": [
       "(32404859,)"
      ]
     },
     "execution_count": 15,
     "metadata": {},
     "output_type": "execute_result"
    }
   ],
   "source": [
    "df_merged['regions'].shape"
   ]
  },
  {
   "cell_type": "code",
   "execution_count": 16,
   "id": "2c930461",
   "metadata": {},
   "outputs": [],
   "source": [
    "# Q3b) Difference in spending habits between the U.S regions\n",
    "# Crossing the region flag with spending flag\n",
    "crosstab=pd.crosstab(df_merged['regions'],df_merged['spending_flag'],dropna=False)"
   ]
  },
  {
   "cell_type": "code",
   "execution_count": 17,
   "id": "283293ea",
   "metadata": {},
   "outputs": [
    {
     "data": {
      "text/html": [
       "<div>\n",
       "<style scoped>\n",
       "    .dataframe tbody tr th:only-of-type {\n",
       "        vertical-align: middle;\n",
       "    }\n",
       "\n",
       "    .dataframe tbody tr th {\n",
       "        vertical-align: top;\n",
       "    }\n",
       "\n",
       "    .dataframe thead th {\n",
       "        text-align: right;\n",
       "    }\n",
       "</style>\n",
       "<table border=\"1\" class=\"dataframe\">\n",
       "  <thead>\n",
       "    <tr style=\"text-align: right;\">\n",
       "      <th>spending_flag</th>\n",
       "      <th>High spender</th>\n",
       "      <th>Low spender</th>\n",
       "    </tr>\n",
       "    <tr>\n",
       "      <th>regions</th>\n",
       "      <th></th>\n",
       "      <th></th>\n",
       "    </tr>\n",
       "  </thead>\n",
       "  <tbody>\n",
       "    <tr>\n",
       "      <th>Midwest</th>\n",
       "      <td>155975</td>\n",
       "      <td>7441350</td>\n",
       "    </tr>\n",
       "    <tr>\n",
       "      <th>Northeast</th>\n",
       "      <td>108225</td>\n",
       "      <td>5614511</td>\n",
       "    </tr>\n",
       "    <tr>\n",
       "      <th>South</th>\n",
       "      <td>209691</td>\n",
       "      <td>10582194</td>\n",
       "    </tr>\n",
       "    <tr>\n",
       "      <th>West</th>\n",
       "      <td>160354</td>\n",
       "      <td>8132559</td>\n",
       "    </tr>\n",
       "  </tbody>\n",
       "</table>\n",
       "</div>"
      ],
      "text/plain": [
       "spending_flag  High spender  Low spender\n",
       "regions                                 \n",
       "Midwest              155975      7441350\n",
       "Northeast            108225      5614511\n",
       "South                209691     10582194\n",
       "West                 160354      8132559"
      ]
     },
     "execution_count": 17,
     "metadata": {},
     "output_type": "execute_result"
    }
   ],
   "source": [
    "crosstab"
   ]
  },
  {
   "cell_type": "markdown",
   "id": "3b6d4f90",
   "metadata": {},
   "source": [
    "#### Each region has more low spender than high spender. "
   ]
  },
  {
   "cell_type": "code",
   "execution_count": 18,
   "id": "daa91532",
   "metadata": {},
   "outputs": [],
   "source": [
    "# Q4) Creating an exclusion flag customers with less than 5 orders\n",
    "df_merged.loc[df_merged['max_order']>=5,'activity']='normal'\n",
    "df_merged.loc[df_merged['max_order']<5,'activity']='low'"
   ]
  },
  {
   "cell_type": "code",
   "execution_count": 19,
   "id": "3ba7f38a",
   "metadata": {},
   "outputs": [
    {
     "data": {
      "text/plain": [
       "normal    30964564\n",
       "low        1440295\n",
       "Name: activity, dtype: int64"
      ]
     },
     "execution_count": 19,
     "metadata": {},
     "output_type": "execute_result"
    }
   ],
   "source": [
    "df_merged['activity'].value_counts()"
   ]
  },
  {
   "cell_type": "code",
   "execution_count": 20,
   "id": "645b2e97",
   "metadata": {},
   "outputs": [
    {
     "data": {
      "text/plain": [
       "(32404859,)"
      ]
     },
     "execution_count": 20,
     "metadata": {},
     "output_type": "execute_result"
    }
   ],
   "source": [
    "# checking for rows to match the dataframe\n",
    "df_merged['activity'].shape"
   ]
  },
  {
   "cell_type": "code",
   "execution_count": 21,
   "id": "1b0f4b19",
   "metadata": {},
   "outputs": [],
   "source": [
    "# customers with low orders\n",
    "df_low_customers=df_merged[df_merged['activity']=='low']"
   ]
  },
  {
   "cell_type": "code",
   "execution_count": 22,
   "id": "ea7b5e2c",
   "metadata": {},
   "outputs": [
    {
     "data": {
      "text/html": [
       "<div>\n",
       "<style scoped>\n",
       "    .dataframe tbody tr th:only-of-type {\n",
       "        vertical-align: middle;\n",
       "    }\n",
       "\n",
       "    .dataframe tbody tr th {\n",
       "        vertical-align: top;\n",
       "    }\n",
       "\n",
       "    .dataframe thead th {\n",
       "        text-align: right;\n",
       "    }\n",
       "</style>\n",
       "<table border=\"1\" class=\"dataframe\">\n",
       "  <thead>\n",
       "    <tr style=\"text-align: right;\">\n",
       "      <th></th>\n",
       "      <th>order_id</th>\n",
       "      <th>user_id</th>\n",
       "      <th>order_number</th>\n",
       "      <th>order_dow</th>\n",
       "      <th>order_hour_of_day</th>\n",
       "      <th>days_since_prior_order</th>\n",
       "      <th>product_id</th>\n",
       "      <th>product_name</th>\n",
       "      <th>department_id</th>\n",
       "      <th>prices</th>\n",
       "      <th>...</th>\n",
       "      <th>last_name</th>\n",
       "      <th>gender</th>\n",
       "      <th>state</th>\n",
       "      <th>age</th>\n",
       "      <th>date_joined</th>\n",
       "      <th>no_of_dependants</th>\n",
       "      <th>marital_status</th>\n",
       "      <th>income($)</th>\n",
       "      <th>regions</th>\n",
       "      <th>activity</th>\n",
       "    </tr>\n",
       "  </thead>\n",
       "  <tbody>\n",
       "    <tr>\n",
       "      <th>1510</th>\n",
       "      <td>-84</td>\n",
       "      <td>120</td>\n",
       "      <td>1</td>\n",
       "      <td>3</td>\n",
       "      <td>11</td>\n",
       "      <td>999.0</td>\n",
       "      <td>-60</td>\n",
       "      <td>Soda</td>\n",
       "      <td>7</td>\n",
       "      <td>9.000000</td>\n",
       "      <td>...</td>\n",
       "      <td>Rich</td>\n",
       "      <td>Female</td>\n",
       "      <td>Kentucky</td>\n",
       "      <td>54</td>\n",
       "      <td>3/2/2017</td>\n",
       "      <td>2</td>\n",
       "      <td>married</td>\n",
       "      <td>99219</td>\n",
       "      <td>South</td>\n",
       "      <td>low</td>\n",
       "    </tr>\n",
       "    <tr>\n",
       "      <th>1511</th>\n",
       "      <td>69</td>\n",
       "      <td>120</td>\n",
       "      <td>3</td>\n",
       "      <td>2</td>\n",
       "      <td>8</td>\n",
       "      <td>19.0</td>\n",
       "      <td>-60</td>\n",
       "      <td>Soda</td>\n",
       "      <td>7</td>\n",
       "      <td>9.000000</td>\n",
       "      <td>...</td>\n",
       "      <td>Rich</td>\n",
       "      <td>Female</td>\n",
       "      <td>Kentucky</td>\n",
       "      <td>54</td>\n",
       "      <td>3/2/2017</td>\n",
       "      <td>2</td>\n",
       "      <td>married</td>\n",
       "      <td>99219</td>\n",
       "      <td>South</td>\n",
       "      <td>low</td>\n",
       "    </tr>\n",
       "    <tr>\n",
       "      <th>1512</th>\n",
       "      <td>-84</td>\n",
       "      <td>120</td>\n",
       "      <td>1</td>\n",
       "      <td>3</td>\n",
       "      <td>11</td>\n",
       "      <td>999.0</td>\n",
       "      <td>69</td>\n",
       "      <td>Zero Calorie Cola</td>\n",
       "      <td>7</td>\n",
       "      <td>13.398438</td>\n",
       "      <td>...</td>\n",
       "      <td>Rich</td>\n",
       "      <td>Female</td>\n",
       "      <td>Kentucky</td>\n",
       "      <td>54</td>\n",
       "      <td>3/2/2017</td>\n",
       "      <td>2</td>\n",
       "      <td>married</td>\n",
       "      <td>99219</td>\n",
       "      <td>South</td>\n",
       "      <td>low</td>\n",
       "    </tr>\n",
       "    <tr>\n",
       "      <th>1513</th>\n",
       "      <td>69</td>\n",
       "      <td>120</td>\n",
       "      <td>3</td>\n",
       "      <td>2</td>\n",
       "      <td>8</td>\n",
       "      <td>19.0</td>\n",
       "      <td>69</td>\n",
       "      <td>Zero Calorie Cola</td>\n",
       "      <td>7</td>\n",
       "      <td>13.398438</td>\n",
       "      <td>...</td>\n",
       "      <td>Rich</td>\n",
       "      <td>Female</td>\n",
       "      <td>Kentucky</td>\n",
       "      <td>54</td>\n",
       "      <td>3/2/2017</td>\n",
       "      <td>2</td>\n",
       "      <td>married</td>\n",
       "      <td>99219</td>\n",
       "      <td>South</td>\n",
       "      <td>low</td>\n",
       "    </tr>\n",
       "    <tr>\n",
       "      <th>1514</th>\n",
       "      <td>-84</td>\n",
       "      <td>120</td>\n",
       "      <td>1</td>\n",
       "      <td>3</td>\n",
       "      <td>11</td>\n",
       "      <td>999.0</td>\n",
       "      <td>-20</td>\n",
       "      <td>Mixed Fruit Fruit Snacks</td>\n",
       "      <td>19</td>\n",
       "      <td>3.099609</td>\n",
       "      <td>...</td>\n",
       "      <td>Rich</td>\n",
       "      <td>Female</td>\n",
       "      <td>Kentucky</td>\n",
       "      <td>54</td>\n",
       "      <td>3/2/2017</td>\n",
       "      <td>2</td>\n",
       "      <td>married</td>\n",
       "      <td>99219</td>\n",
       "      <td>South</td>\n",
       "      <td>low</td>\n",
       "    </tr>\n",
       "  </tbody>\n",
       "</table>\n",
       "<p>5 rows × 29 columns</p>\n",
       "</div>"
      ],
      "text/plain": [
       "      order_id  user_id  order_number  order_dow  order_hour_of_day  \\\n",
       "1510       -84      120             1          3                 11   \n",
       "1511        69      120             3          2                  8   \n",
       "1512       -84      120             1          3                 11   \n",
       "1513        69      120             3          2                  8   \n",
       "1514       -84      120             1          3                 11   \n",
       "\n",
       "      days_since_prior_order  product_id              product_name  \\\n",
       "1510                   999.0         -60                      Soda   \n",
       "1511                    19.0         -60                      Soda   \n",
       "1512                   999.0          69         Zero Calorie Cola   \n",
       "1513                    19.0          69         Zero Calorie Cola   \n",
       "1514                   999.0         -20  Mixed Fruit Fruit Snacks   \n",
       "\n",
       "      department_id     prices  ... last_name  gender     state age  \\\n",
       "1510              7   9.000000  ...      Rich  Female  Kentucky  54   \n",
       "1511              7   9.000000  ...      Rich  Female  Kentucky  54   \n",
       "1512              7  13.398438  ...      Rich  Female  Kentucky  54   \n",
       "1513              7  13.398438  ...      Rich  Female  Kentucky  54   \n",
       "1514             19   3.099609  ...      Rich  Female  Kentucky  54   \n",
       "\n",
       "      date_joined no_of_dependants  marital_status income($) regions activity  \n",
       "1510     3/2/2017                2         married     99219   South      low  \n",
       "1511     3/2/2017                2         married     99219   South      low  \n",
       "1512     3/2/2017                2         married     99219   South      low  \n",
       "1513     3/2/2017                2         married     99219   South      low  \n",
       "1514     3/2/2017                2         married     99219   South      low  \n",
       "\n",
       "[5 rows x 29 columns]"
      ]
     },
     "execution_count": 22,
     "metadata": {},
     "output_type": "execute_result"
    }
   ],
   "source": [
    "df_low_customers.head()"
   ]
  },
  {
   "cell_type": "code",
   "execution_count": 23,
   "id": "7bb58a52",
   "metadata": {},
   "outputs": [
    {
     "data": {
      "text/plain": [
       "(1440295, 29)"
      ]
     },
     "execution_count": 23,
     "metadata": {},
     "output_type": "execute_result"
    }
   ],
   "source": [
    "df_low_customers.shape"
   ]
  },
  {
   "cell_type": "code",
   "execution_count": 24,
   "id": "203fbe14",
   "metadata": {},
   "outputs": [],
   "source": [
    "# Exporting the low activity customer dataset\n",
    "df_low_customers.to_pickle(os.path.join(path, '02 Data', 'Prepared Data', 'df_merged_lowactivitycustomer.pkl'))"
   ]
  },
  {
   "cell_type": "code",
   "execution_count": 25,
   "id": "6f6b5be7",
   "metadata": {},
   "outputs": [],
   "source": [
    "# creating a dataframe with normal activity customer\n",
    "df_normal_customers=df_merged[df_merged['activity']=='normal']"
   ]
  },
  {
   "cell_type": "code",
   "execution_count": 26,
   "id": "822a1e2e",
   "metadata": {},
   "outputs": [
    {
     "data": {
      "text/plain": [
       "Index(['order_id', 'user_id', 'order_number', 'order_dow', 'order_hour_of_day',\n",
       "       'days_since_prior_order', 'product_id', 'product_name', 'department_id',\n",
       "       'prices', 'price_range_loc', 'busiest day', 'busiest_days',\n",
       "       'busiest_period_of_day', 'max_order', 'loyalty_flag', 'average_price',\n",
       "       'spending_flag', 'first_name', 'last_name', 'gender', 'state', 'age',\n",
       "       'date_joined', 'no_of_dependants', 'marital_status', 'income($)',\n",
       "       'regions', 'activity'],\n",
       "      dtype='object')"
      ]
     },
     "execution_count": 26,
     "metadata": {},
     "output_type": "execute_result"
    }
   ],
   "source": [
    "df_normal_customers.columns"
   ]
  },
  {
   "cell_type": "code",
   "execution_count": 27,
   "id": "dac96718",
   "metadata": {},
   "outputs": [],
   "source": [
    "# Q5"
   ]
  },
  {
   "cell_type": "markdown",
   "id": "d90c2202",
   "metadata": {},
   "source": [
    "#### a) Family status"
   ]
  },
  {
   "cell_type": "code",
   "execution_count": 28,
   "id": "03bab91e",
   "metadata": {},
   "outputs": [
    {
     "name": "stderr",
     "output_type": "stream",
     "text": [
      "C:\\Users\\ponni\\AppData\\Local\\Temp\\ipykernel_10828\\1496394366.py:3: SettingWithCopyWarning: \n",
      "A value is trying to be set on a copy of a slice from a DataFrame.\n",
      "Try using .loc[row_indexer,col_indexer] = value instead\n",
      "\n",
      "See the caveats in the documentation: https://pandas.pydata.org/pandas-docs/stable/user_guide/indexing.html#returning-a-view-versus-a-copy\n",
      "  df_normal_customers.loc[(df_merged['department_id']==18)&(df_merged['no_of_dependants']>0),'family_status']='family with young children'\n"
     ]
    }
   ],
   "source": [
    "# To create a family status flag to find parents of young children, parents of older children, and people with no children\n",
    "# Department id # 18 is designated 'babies' and will be used here to identify families with young children\n",
    "df_normal_customers.loc[(df_merged['department_id']==18)&(df_merged['no_of_dependants']>0),'family_status']='family with young children'"
   ]
  },
  {
   "cell_type": "code",
   "execution_count": 29,
   "id": "98d9d02a",
   "metadata": {},
   "outputs": [],
   "source": [
    "df_normal_customers.loc[(df_merged['department_id']!=18)&(df_merged['no_of_dependants']>0),'family_status']='family with older children'"
   ]
  },
  {
   "cell_type": "code",
   "execution_count": 30,
   "id": "03bb8b7d",
   "metadata": {},
   "outputs": [],
   "source": [
    "df_normal_customers.loc[df_merged['no_of_dependants']==0,'family_status']='no children' "
   ]
  },
  {
   "cell_type": "code",
   "execution_count": 31,
   "id": "2f8285e3",
   "metadata": {},
   "outputs": [
    {
     "data": {
      "text/plain": [
       "family with older children    22917819\n",
       "no children                    7739681\n",
       "family with young children      307064\n",
       "Name: family_status, dtype: int64"
      ]
     },
     "execution_count": 31,
     "metadata": {},
     "output_type": "execute_result"
    }
   ],
   "source": [
    "df_normal_customers['family_status'].value_counts()"
   ]
  },
  {
   "cell_type": "code",
   "execution_count": 32,
   "id": "8fe42d55",
   "metadata": {},
   "outputs": [
    {
     "data": {
      "text/plain": [
       "30964564"
      ]
     },
     "execution_count": 32,
     "metadata": {},
     "output_type": "execute_result"
    }
   ],
   "source": [
    "len(df_normal_customers['family_status'])"
   ]
  },
  {
   "cell_type": "code",
   "execution_count": 33,
   "id": "23e1d9b5",
   "metadata": {},
   "outputs": [
    {
     "data": {
      "text/plain": [
       "30964564"
      ]
     },
     "execution_count": 33,
     "metadata": {},
     "output_type": "execute_result"
    }
   ],
   "source": [
    "len(df_normal_customers)"
   ]
  },
  {
   "cell_type": "code",
   "execution_count": 60,
   "id": "963bc964",
   "metadata": {},
   "outputs": [],
   "source": [
    "# Exporting the normal activity customer dataset\n",
    "df_normal_customers.to_pickle(os.path.join(path, '02 Data', 'Prepared Data', 'df_merged_nactivitycustomer.pkl'))"
   ]
  },
  {
   "cell_type": "code",
   "execution_count": 59,
   "id": "5177a63a",
   "metadata": {},
   "outputs": [],
   "source": [
    "# Exporting the df_merged dataset\n",
    "df_merged.to_pickle(os.path.join(path, '02 Data', 'Prepared Data', 'df_merged_5.pkl'))"
   ]
  },
  {
   "cell_type": "markdown",
   "id": "37f445b2",
   "metadata": {},
   "source": [
    "#### continued in next notebook"
   ]
  }
 ],
 "metadata": {
  "kernelspec": {
   "display_name": "Python 3 (ipykernel)",
   "language": "python",
   "name": "python3"
  },
  "language_info": {
   "codemirror_mode": {
    "name": "ipython",
    "version": 3
   },
   "file_extension": ".py",
   "mimetype": "text/x-python",
   "name": "python",
   "nbconvert_exporter": "python",
   "pygments_lexer": "ipython3",
   "version": "3.9.13"
  }
 },
 "nbformat": 4,
 "nbformat_minor": 5
}
